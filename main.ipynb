{
 "cells": [
  {
   "cell_type": "markdown",
   "metadata": {},
   "source": [
    "# RAG-LLMs"
   ]
  },
  {
   "cell_type": "markdown",
   "metadata": {},
   "source": [
    "## Setup"
   ]
  },
  {
   "cell_type": "markdown",
   "metadata": {},
   "source": [
    "### Imports"
   ]
  },
  {
   "cell_type": "code",
   "execution_count": null,
   "metadata": {},
   "outputs": [],
   "source": [
    "# imports\n",
    "import os\n",
    "from dotenv import load_dotenv\n",
    "import pandas as pd\n",
    "from langchain_openai import ChatOpenAI, AzureChatOpenAI \n",
    "\n",
    "from src.utils import *\n",
    "from src.config import *\n",
    "from src.data_utils import SQLDBManager, Neo4jGraphManager\n",
    "from src.tools import GraphQueryAgent, SQLQueryAgent\n",
    "%load_ext autoreload\n",
    "%autoreload 2"
   ]
  },
  {
   "cell_type": "markdown",
   "metadata": {},
   "source": [
    "## SQL RAG"
   ]
  },
  {
   "cell_type": "markdown",
   "metadata": {},
   "source": [
    "### Prepare & init Postgres DB"
   ]
  },
  {
   "cell_type": "code",
   "execution_count": null,
   "metadata": {},
   "outputs": [],
   "source": [
    "dbm = SQLDBManager.from_env(schema=TABLE_SCHEMA, include_tables=[TABLE_NAME])   # instantiate SQLDBManager\n",
    "llm = AzureChatOpenAI(model=OPENAI_LLM_VERSION, max_tokens=MAX_TOKENS, temperature=TEMPERATURE)    # instantiate llm\n",
    "\n",
    "# set db variables\n",
    "src_table = f'{TABLE_SCHEMA}.{TABLE_NAME}'\n",
    "data_table = f'{src_table}_filtered'\n",
    "\n",
    "dbm = SQLDBManager.from_env()  # instantiate SQLDBManager\n",
    "\n",
    "# filter data table and create new\n",
    "dbm.filter_table(src_table, REQ_COLS_PATH, TABLE_PRIMARY_KEY, overwrite=True)\n",
    "\n",
    "# clean html\n",
    "dbm.clean_html(data_table, [TEXT_COL], TABLE_PRIMARY_KEY) # clean html\n",
    "\n",
    "# create embeddings\n",
    "dbm.embed_objs(f'{TABLE_SCHEMA}.{TABLE_NAME}', cols_to_embed=COLS_TO_EMBED, pk=TABLE_PRIMARY_KEY)"
   ]
  },
  {
   "cell_type": "markdown",
   "metadata": {},
   "source": [
    "### SQL RAG Agent with Tools "
   ]
  },
  {
   "cell_type": "code",
   "execution_count": null,
   "metadata": {},
   "outputs": [],
   "source": [
    "# use agent w tools to query graph\n",
    "dqa = SQLQueryAgent(dbm.db, llm)    # instantiate db query agent\n",
    "\n",
    "# run queries\n",
    "query = \"who in charge of the user story about end-to-end testing of GenAI services?\"\n",
    "print(f\"user query: {query}\")\n",
    "result = dqa.run(query)\n",
    "print(result)"
   ]
  },
  {
   "cell_type": "markdown",
   "metadata": {},
   "source": [
    "## Graph RAG"
   ]
  },
  {
   "cell_type": "markdown",
   "metadata": {},
   "source": [
    "### Prepare & init graph DB"
   ]
  },
  {
   "cell_type": "code",
   "execution_count": null,
   "metadata": {},
   "outputs": [],
   "source": [
    "ngm = Neo4jGraphManager.from_env()  # instantiate neo4j graph manager\n",
    "ngm.from_table(f'{TABLE_SCHEMA}.{TABLE_NAME}', reset=True)    # create graph from table\n",
    "\n",
    "# embed graph objects\n",
    "ngm.embed_objs() "
   ]
  },
  {
   "cell_type": "markdown",
   "metadata": {},
   "source": [
    "### Graph RAG Agent with tools"
   ]
  },
  {
   "cell_type": "code",
   "execution_count": null,
   "metadata": {},
   "outputs": [],
   "source": [
    "# use agent w tools to query graph\n",
    "gqa = GraphQueryAgent(ngm.graph, llm)    # instantiate graph query agent\n",
    "\n",
    "# query = \"how many user stories are there in total?\"\n",
    "query = \"who in charge of the user story about end-to-end testing of GenAI services?\"\n",
    "print(f\"user query: {query}\")\n",
    "gqa.run(query)"
   ]
  }
 ],
 "metadata": {
  "kernelspec": {
   "display_name": "rag-llms",
   "language": "python",
   "name": "python3"
  },
  "language_info": {
   "codemirror_mode": {
    "name": "ipython",
    "version": 3
   },
   "file_extension": ".py",
   "mimetype": "text/x-python",
   "name": "python",
   "nbconvert_exporter": "python",
   "pygments_lexer": "ipython3",
   "version": "3.11.0"
  }
 },
 "nbformat": 4,
 "nbformat_minor": 2
}
