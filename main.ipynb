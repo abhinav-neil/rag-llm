{
 "cells": [
  {
   "cell_type": "markdown",
   "metadata": {},
   "source": [
    "# RAG-LLMs"
   ]
  },
  {
   "cell_type": "markdown",
   "metadata": {},
   "source": [
    "## Setup"
   ]
  },
  {
   "cell_type": "markdown",
   "metadata": {},
   "source": [
    "### Imports"
   ]
  },
  {
   "cell_type": "code",
   "execution_count": 1,
   "metadata": {},
   "outputs": [],
   "source": [
    "# imports\n",
    "import os\n",
    "from dotenv import load_dotenv\n",
    "from src.utils import setup_azure_openai\n",
    "from src.data_utils import SQLDBManager\n",
    "import ast\n",
    "\n",
    "%load_ext autoreload\n",
    "%autoreload 2"
   ]
  },
  {
   "cell_type": "markdown",
   "metadata": {},
   "source": [
    "### Config"
   ]
  },
  {
   "cell_type": "code",
   "execution_count": 49,
   "metadata": {},
   "outputs": [
    {
     "name": "stdout",
     "output_type": "stream",
     "text": [
      "Successfully setup Azure OpenAI authentication\n"
     ]
    }
   ],
   "source": [
    "# set openai api key / ad token\n",
    "# setup azure openai AD token\n",
    "setup_azure_openai()\n",
    "# print(f\"AD token set: {os.environ['AZURE_OPENAI_AD_TOKEN']}\")"
   ]
  },
  {
   "cell_type": "markdown",
   "metadata": {},
   "source": [
    "## Prepare data"
   ]
  },
  {
   "cell_type": "code",
   "execution_count": 44,
   "metadata": {},
   "outputs": [],
   "source": [
    "# set db variables\n",
    "data_table = 'pegadata.ppm_work'\n",
    "req_cols_path = 'data/pega-as-clone/req_fields.txt'\n",
    "new_data_table = 'pegadata.ppm_work_filtered'\n",
    "primary_key = 'pxinsname'\n",
    "text_col = 'pydescription'"
   ]
  },
  {
   "cell_type": "code",
   "execution_count": 45,
   "metadata": {},
   "outputs": [
    {
     "name": "stdout",
     "output_type": "stream",
     "text": [
      "connected to database successfully.\n",
      "table pegadata.ppm_work_filtered created successfully.\n"
     ]
    }
   ],
   "source": [
    "# instantiate sql db manager & connect to sql db\n",
    "sqldb_manager = SQLDBManager.from_env()\n",
    "\n",
    "# filter 'ppm_work' table and create new (if not exists) \n",
    "sqldb_manager.filter_table(data_table, req_cols_path, new_data_table, primary_key)"
   ]
  },
  {
   "cell_type": "code",
   "execution_count": 47,
   "metadata": {},
   "outputs": [
    {
     "name": "stdout",
     "output_type": "stream",
     "text": [
      "As PO, I would like to release the first version of GenAI Hub to Staging and\n",
      "be ready to release into Prod Adoption and Production\n",
      "\n",
      "\n",
      "NULL\n",
      "## Details\n",
      "\n",
      "Description\n",
      "\n",
      "As PO I would like to test end to end if...\n",
      "\n",
      "\n",
      "plugin for Agile Studio\n",
      "\n",
      "\n",
      "<p lang=\"EN-US\"...\n",
      "\n",
      "\n"
     ]
    }
   ],
   "source": [
    "# clean text in 'pydescription' before creating embs\n",
    "cols_to_clean = [text_col]\n",
    "sqldb_manager.clean_html(new_data_table, cols_to_clean, primary_key)\n",
    "\n",
    "# print 1st 5 cleaned rows\n",
    "rows_str = sqldb_manager.db.run(f\"SELECT {text_col} FROM {new_data_table} LIMIT 5\")\n",
    "rows = ast.literal_eval(rows_str)  # convert string to list\n",
    "rows = [row[0] for row in rows]  # convert list of tuples to list of strings\n",
    "for row in rows:\n",
    "    print(row)"
   ]
  },
  {
   "cell_type": "code",
   "execution_count": null,
   "metadata": {},
   "outputs": [],
   "source": [
    "# create embeddings\n",
    "from langchain.embeddings import AzureOpenAIEmbeddings\n",
    "embs_model = AzureOpenAIEmbeddings(azure_deployment=\"text-embedding-ada-002\") # instantiate embeddings model\n",
    "sqldb_manager.create_embs_col(new_data_table, text_col, embs_model) # create embeddings col\n",
    "\n",
    "# check embs col\n",
    "rows_str = sqldb_manager.db.run(f\"SELECT {text_col}_embs FROM {new_data_table} LIMIT 5\")\n",
    "rows = ast.literal_eval(rows_str)  # convert string to list\n",
    "rows = [row[0] for row in rows]  # convert list of tuples to list embs\n",
    "# print 1st 5 embs\n",
    "# for row in rows:\n",
    "#     print(row[:10])"
   ]
  }
 ],
 "metadata": {
  "kernelspec": {
   "display_name": "rag-llms",
   "language": "python",
   "name": "python3"
  },
  "language_info": {
   "codemirror_mode": {
    "name": "ipython",
    "version": 3
   },
   "file_extension": ".py",
   "mimetype": "text/x-python",
   "name": "python",
   "nbconvert_exporter": "python",
   "pygments_lexer": "ipython3",
   "version": "3.11.0"
  }
 },
 "nbformat": 4,
 "nbformat_minor": 2
}
