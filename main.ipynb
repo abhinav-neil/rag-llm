{
 "cells": [
  {
   "cell_type": "markdown",
   "metadata": {},
   "source": [
    "# RAG-LLMs"
   ]
  },
  {
   "cell_type": "markdown",
   "metadata": {},
   "source": [
    "## Setup"
   ]
  },
  {
   "cell_type": "markdown",
   "metadata": {},
   "source": [
    "### Imports"
   ]
  },
  {
   "cell_type": "code",
   "execution_count": 1,
   "metadata": {},
   "outputs": [],
   "source": [
    "# imports\n",
    "import os\n",
    "from dotenv import load_dotenv\n",
    "import pandas as pd\n",
    "from langchain_openai import ChatOpenAI, AzureChatOpenAI \n",
    "from langchain_experimental.sql import SQLDatabaseChain\n",
    "from langchain.chains import GraphCypherQAChain\n",
    "from langchain_openai import AzureOpenAIEmbeddings\n",
    "from langchain.prompts import PromptTemplate\n",
    "\n",
    "from src.utils import *\n",
    "from src.data_utils import SQLDBManager, Neo4jGraphManager\n",
    "from src.prompt_templates import sql_rag_prompt, kg_rag_prompt, kg_rag_agent_prompt, kg_rag_agent_sys_prompt\n",
    "from src.tools import GraphQueryAgent\n",
    "\n",
    "%load_ext autoreload\n",
    "%autoreload 2"
   ]
  },
  {
   "cell_type": "markdown",
   "metadata": {},
   "source": [
    "### Config"
   ]
  },
  {
   "cell_type": "code",
   "execution_count": 3,
   "metadata": {},
   "outputs": [
    {
     "name": "stdout",
     "output_type": "stream",
     "text": [
      "Successfully setup Azure OpenAI authentication\n"
     ]
    }
   ],
   "source": [
    "# load env vars\n",
    "host, port, db, user, password = load_postgres_env_variables()\n",
    "# dbm = SQLDBManager.from_env()   # instantiate SQLDBManager\n",
    "setup_azure_openai(api_base='https://azsdc-openai-33.openai.azure.com/', api_version='2023-07-01-preview')    # setup azure openai AD token\n",
    "# print(f\"AD token set: {os.environ['AZURE_OPENAI_AD_TOKEN']}\")"
   ]
  },
  {
   "cell_type": "markdown",
   "metadata": {},
   "source": [
    "## Prepare & init DB"
   ]
  },
  {
   "cell_type": "code",
   "execution_count": 35,
   "metadata": {},
   "outputs": [
    {
     "name": "stdout",
     "output_type": "stream",
     "text": [
      "connected to database\n"
     ]
    }
   ],
   "source": [
    "# llm_version = 'gpt-4'   # gpt-4, gpt-35-turbo\n",
    "# llm = AzureChatOpenAI(model=llm_version, max_tokens=1000, temperature=0)    # instantiate llm\n",
    "# set db variables\n",
    "# src_table = 'pegadata.ppm_work'\n",
    "# req_cols_path = 'data/pega-as-clone/req_fields.txt'\n",
    "# data_table = f'{src_table}_filtered'\n",
    "# primary_key = 'pyid'\n",
    "\n",
    "# dbm = SQLDBManager.from_env()  # instantiate SQLDBManager\n",
    "# filter data table and create new\n",
    "# dbm.filter_table(src_table, req_cols_path, primary_key, overwrite=True)\n",
    "\n",
    "# drop cols\n",
    "# cols_to_drop = ...\n",
    "# dbm.drop_cols(data_table, cols_to_drop)\n",
    "\n",
    "# clean html\n",
    "# text_col = 'pydescription'\n",
    "# dbm.clean_html(data_table, [text_col], primary_key) # clean html\n",
    "\n",
    "# # create embeddings\n",
    "# embs_model = AzureOpenAIEmbeddings(azure_deployment=\"text-embedding-ada-002\") # instantiate embeddings model\n",
    "# dbm.create_embs_col(data_table, text_col, embs_model) # create embeddings col"
   ]
  },
  {
   "cell_type": "markdown",
   "metadata": {},
   "source": [
    "## SQL-RAG"
   ]
  },
  {
   "cell_type": "code",
   "execution_count": 16,
   "metadata": {},
   "outputs": [
    {
     "name": "stdout",
     "output_type": "stream",
     "text": [
      "connected to database\n"
     ]
    }
   ],
   "source": [
    "schema = 'pegadata'\n",
    "table = 'ppm_work_filtered' \n",
    "dbm = SQLDBManager.from_env(schema=schema, include_tables=[table])   # instantiate SQLDBManager\n",
    "# using sql agent\n",
    "# from langchain.agents import create_sql_agent\n",
    "# from langchain.agents import AgentExecutor\n",
    "# from langchain.agents.agent_types import AgentType\n",
    "# from langchain_community.agent_toolkits import SQLDatabaseToolkit\n",
    "# agent_type = AgentType.ZERO_SHOT_REACT_DESCRIPTION\n",
    "# toolkit = SQLDatabaseToolkit(dbm.db, llm)\n",
    "# db_agent = create_sql_agent(llm=llm, toolkit=toolkit, agent_type=agent_type, verbose=True)    # instantiate db agent\n",
    "# db_agent.run(query)"
   ]
  },
  {
   "cell_type": "markdown",
   "metadata": {},
   "source": [
    "### Eval"
   ]
  },
  {
   "cell_type": "code",
   "execution_count": 17,
   "metadata": {},
   "outputs": [
    {
     "name": "stdout",
     "output_type": "stream",
     "text": [
      "\n",
      "\n",
      "\u001b[1m> Entering new SQLDatabaseChain chain...\u001b[0m\n",
      "list all pending user stories w/ deadlines before Apr 1, 2024, along with their assignees and priority\n",
      "SQLQuery:\u001b[32;1m\u001b[1;3mSELECT pyid, assignee, pxurgencywork FROM pegadata.ppm_work_filtered WHERE pystatuswork = 'Pending' AND pysladeadline < '2024-04-01'\u001b[0m\n",
      "SQLResult: \u001b[33;1m\u001b[1;3m[('US-12', 'Neil', Decimal('20')), ('US-13', 'Stijn', Decimal('35')), ('US-16', 'Stijn', Decimal('20'))]\u001b[0m\n",
      "Answer:\u001b[32;1m\u001b[1;3mThe pending user stories with deadlines before Apr 1, 2024, along with their assignees and priority are: \n",
      "1. User Story ID: US-12, Assignee: Neil, Priority: 20\n",
      "2. User Story ID: US-13, Assignee: Stijn, Priority: 35\n",
      "3. User Story ID: US-16, Assignee: Stijn, Priority: 20\u001b[0m\n",
      "\u001b[1m> Finished chain.\u001b[0m\n"
     ]
    },
    {
     "data": {
      "text/plain": [
       "'The pending user stories with deadlines before Apr 1, 2024, along with their assignees and priority are: \\n1. User Story ID: US-12, Assignee: Neil, Priority: 20\\n2. User Story ID: US-13, Assignee: Stijn, Priority: 35\\n3. User Story ID: US-16, Assignee: Stijn, Priority: 20'"
      ]
     },
     "execution_count": 17,
     "metadata": {},
     "output_type": "execute_result"
    }
   ],
   "source": [
    "# custom prompt\n",
    "prompt = PromptTemplate(input_variables=[\"input\", \"table_info\"], template=sql_rag_prompt)\n",
    "db_chain = SQLDatabaseChain.from_llm(llm, dbm.db, verbose=True, prompt=prompt)    # instantiate sql rag chain\n",
    "table_info = dbm.db.get_table_info([table])\n",
    "\n",
    "# single query\n",
    "query = \"list all pending user stories w/ deadlines before Apr 1, 2024, along with their assignees and priority\"\n",
    "db_chain.run(query=query, table_info=table_info)\n",
    "\n",
    "# eval on test set\n",
    "# test_queries_path = 'data/sample_queries.csv'\n",
    "# df_queries = pd.read_csv(test_queries_path, sep=';', index_col='id')\n",
    "# responses = {}\n",
    "\n",
    "# # iter thru queries and generate responses\n",
    "# for qid, row in df_queries.iterrows():\n",
    "#     query = row['query']\n",
    "#     print(f\"running query {qid}: {query}\")\n",
    "#     try:\n",
    "#         response = db_chain.run(query=query, table_info=table_info)\n",
    "#         responses[qid] = response\n",
    "#     except Exception as e:\n",
    "#         print(f\"error: {e}\")\n",
    "#     print('\\n')\n",
    "\n",
    "# # save responses to csv\n",
    "# df_responses = pd.DataFrame.from_dict(responses, orient='index', columns=['response'])\n",
    "# responses_path = f'outputs/sql-rag/responses_{llm_version}.csv'\n",
    "# os.makedirs(os.path.dirname(responses_path), exist_ok=True)\n",
    "# with open(responses_path, 'w') as f:\n",
    "#     df_responses.to_csv(f, sep=';')"
   ]
  },
  {
   "cell_type": "code",
   "execution_count": 25,
   "metadata": {},
   "outputs": [
    {
     "name": "stdout",
     "output_type": "stream",
     "text": [
      "{'num_queries': 20, 'num_correct': 10, 'num_queries_easy': 10, 'num_correct_easy': 8, 'num_queries_hard': 10, 'num_correct_hard': 2, 'accuracy': 0.5, 'accuracy_easy': 0.8, 'accuracy_hard': 0.2}\n"
     ]
    }
   ],
   "source": [
    "# compute accuracy of responses\n",
    "responses_eval_path = f'outputs/sql-rag/responses_{llm_version}_eval.csv'\n",
    "eval_res = eval_rag_responses(responses_eval_path)\n",
    "print(eval_res)"
   ]
  },
  {
   "cell_type": "markdown",
   "metadata": {},
   "source": [
    "## KG-RAG"
   ]
  },
  {
   "cell_type": "code",
   "execution_count": 4,
   "metadata": {},
   "outputs": [],
   "source": [
    "ngm = Neo4jGraphManager.from_env()  # instantiate neo4j graph manager\n",
    "schema = 'pegadata'\n",
    "table = 'ppm_work_filtered'\n",
    "# ngm.from_table(f'{schema}.{table}', reset=True)    # create graph from table\n",
    "# ngm.graph.refresh_schema()\n",
    "# print(f\"graph schema:\\n{ngm.graph.schema}\")\n",
    "llm_version = 'gpt-4'   # gpt-4, gpt-35-turbo\n",
    "# llm = ChatOpenAI(model=llm_version, max_tokens=1000, temperature=0)    # instantiate llm\n",
    "llm = AzureChatOpenAI(model=llm_version, max_tokens=2000, temperature=0)    # instantiate llm"
   ]
  },
  {
   "cell_type": "markdown",
   "metadata": {},
   "source": [
    "### Eval"
   ]
  },
  {
   "cell_type": "code",
   "execution_count": null,
   "metadata": {},
   "outputs": [],
   "source": [
    "# generate response using kg rag\n",
    "prompt_template = kg_rag_prompt\n",
    "prompt = PromptTemplate(input_variables=[\"schema\", \"question\"], template=kg_rag_prompt)   # construct prompt\n",
    "kg_rag_chain = GraphCypherQAChain.from_llm(llm, graph=ngm.graph, cypher_prompt=prompt, validate_cypher=True, verbose=True)   # instantiate kg rag chain\n",
    "\n",
    "# single query\n",
    "query = \"fetch all user stories assigned to Abhijith which have a priority higher than the highest priority of user stories assigned to me (Neil).\"\n",
    "print(f\"user query: {query}\")\n",
    "response = kg_rag_chain.run(query)  # generate response\n",
    "print(response)"
   ]
  },
  {
   "cell_type": "code",
   "execution_count": 12,
   "metadata": {},
   "outputs": [
    {
     "name": "stdout",
     "output_type": "stream",
     "text": [
      "running query 1: how many user stories are under epic 1?\n",
      "\n",
      "\n",
      "\u001b[1m> Entering new GraphCypherQAChain chain...\u001b[0m\n",
      "Generated Cypher:\n",
      "\u001b[32;1m\u001b[1;3mMATCH (us:UserStory)-[:IS_STORY_OF_EPIC]->(e:Epic) WHERE e.pyid = 'EPIC-1' RETURN COUNT(us)\u001b[0m\n",
      "Full Context:\n",
      "\u001b[32;1m\u001b[1;3m[{'COUNT(us)': 9}]\u001b[0m\n",
      "\n",
      "\u001b[1m> Finished chain.\u001b[0m\n",
      "\n",
      "\n",
      "running query 2: find the most recent user story under epic 1 and summarize it\n",
      "\n",
      "\n",
      "\u001b[1m> Entering new GraphCypherQAChain chain...\u001b[0m\n",
      "Generated Cypher:\n",
      "\u001b[32;1m\u001b[1;3mMATCH (us:UserStory)-[:IS_STORY_OF_EPIC]->(e:Epic)\n",
      "WHERE e.pyid = 'EPIC-1'\n",
      "RETURN us.pyid AS UserStoryID, us.pylabel AS UserStoryLabel, us.description AS UserStoryDescription, us.pystatuswork AS UserStoryStatus, us.category AS UserStoryCategory, us.startdate AS UserStoryStartDate, us.enddate AS UserStoryEndDate\n",
      "ORDER BY us.enddate DESC\n",
      "LIMIT 1\u001b[0m\n",
      "Full Context:\n",
      "\u001b[32;1m\u001b[1;3m[{'UserStoryID': 'US-6', 'UserStoryLabel': 'Release first version', 'UserStoryDescription': ' As PO, I would like to release the first version of GenAI Hub to Staging and be ready to release into Prod Adoption and Production ', 'UserStoryStatus': 'Active', 'UserStoryCategory': 'Release', 'UserStoryStartDate': neo4j.time.Date(2023, 12, 4), 'UserStoryEndDate': None}]\u001b[0m\n",
      "\n",
      "\u001b[1m> Finished chain.\u001b[0m\n",
      "\n",
      "\n",
      "running query 3: list all pending user stories w/ deadlines before Feb 1, 2024, along with their assignees and priority\n",
      "\n",
      "\n",
      "\u001b[1m> Entering new GraphCypherQAChain chain...\u001b[0m\n",
      "Generated Cypher:\n",
      "\u001b[32;1m\u001b[1;3mMATCH (us:UserStory)\n",
      "WHERE us.pystatuswork = 'Pending' AND us.pysladeadline < datetime('2024-02-01T00:00:00') \n",
      "RETURN us.pyid AS UserStoryID, us.assignee AS Assignee, us.pxurgencywork AS Priority\n",
      "ORDER BY us.pxurgencywork DESC\u001b[0m\n",
      "Full Context:\n",
      "\u001b[32;1m\u001b[1;3m[]\u001b[0m\n",
      "\n",
      "\u001b[1m> Finished chain.\u001b[0m\n",
      "\n",
      "\n",
      "running query 4: how many user stories are assigned to each assignee?\n",
      "\n",
      "\n",
      "\u001b[1m> Entering new GraphCypherQAChain chain...\u001b[0m\n",
      "Generated Cypher:\n",
      "\u001b[32;1m\u001b[1;3mMATCH (us:UserStory)\n",
      "RETURN us.assignee AS Assignee, COUNT(us) AS UserStoriesCount\n",
      "ORDER BY UserStoriesCount DESC\u001b[0m\n",
      "Full Context:\n",
      "\u001b[32;1m\u001b[1;3m[{'Assignee': 'Neil', 'UserStoriesCount': 6}, {'Assignee': 'Abhijith', 'UserStoriesCount': 5}, {'Assignee': 'Stijn', 'UserStoriesCount': 5}]\u001b[0m\n",
      "\n",
      "\u001b[1m> Finished chain.\u001b[0m\n",
      "\n",
      "\n",
      "running query 5: which pending user story has the nearest deadline?\n",
      "\n",
      "\n",
      "\u001b[1m> Entering new GraphCypherQAChain chain...\u001b[0m\n",
      "Generated Cypher:\n",
      "\u001b[32;1m\u001b[1;3mMATCH (us:UserStory)\n",
      "WHERE toLower(us.pystatuswork) = 'pending'\n",
      "RETURN us\n",
      "ORDER BY us.pysladeadline ASC\n",
      "LIMIT 1\u001b[0m\n",
      "Full Context:\n",
      "\u001b[32;1m\u001b[1;3m[{'us': {'goalid': 'GOAL-2', 'pysladeadline': neo4j.time.DateTime(2024, 2, 27, 0, 0, 0, 0), 'productid': 'PRD-2', 'pystatuswork': 'Pending', 'description': '1. Signature Parts configured on the Profile outflow ruleform must be read and signed in the Response\\n\\n2. Signature Parts configured on the profile inflow ruleform must be verfied in the incoming request.\\n\\n3. Explore PR3tests feasibility only if existing tests are available\\n\\n4. Unit Tests\\n\\n5. Add loggers. (Create loggers document for customer support)', 'pxobjclass': 'UserStory', 'pyid': 'US-12', 'backlogid': 'BL-2', 'epicid': 'EPIC-2', 'pylabel': 'Implement Signature parts with quality practices', 'assignee': 'Neil', 'category': 'Feature Development', 'pxurgencywork': 20.0, 'projectid': 'PROJ-2'}}]\u001b[0m\n",
      "\n",
      "\u001b[1m> Finished chain.\u001b[0m\n",
      "\n",
      "\n",
      "running query 6: how many user stories in the 'Testing' category have been completed?\n",
      "\n",
      "\n",
      "\u001b[1m> Entering new GraphCypherQAChain chain...\u001b[0m\n",
      "Generated Cypher:\n",
      "\u001b[32;1m\u001b[1;3mMATCH (us:UserStory) WHERE us.category = 'Testing' AND us.pystatuswork = 'Completed' RETURN COUNT(us)\u001b[0m\n",
      "Full Context:\n",
      "\u001b[32;1m\u001b[1;3m[{'COUNT(us)': 2}]\u001b[0m\n",
      "\n",
      "\u001b[1m> Finished chain.\u001b[0m\n",
      "\n",
      "\n",
      "running query 7: what is the distribution of user stories across different categories?\n",
      "\n",
      "\n",
      "\u001b[1m> Entering new GraphCypherQAChain chain...\u001b[0m\n",
      "Generated Cypher:\n",
      "\u001b[32;1m\u001b[1;3mMATCH (us:UserStory)\n",
      "RETURN us.category as Category, count(us) as UserStoriesCount\n",
      "ORDER BY UserStoriesCount DESC\u001b[0m\n",
      "Full Context:\n",
      "\u001b[32;1m\u001b[1;3m[{'Category': 'Feature Development', 'UserStoriesCount': 9}, {'Category': 'Testing', 'UserStoriesCount': 2}, {'Category': 'Pre-development', 'UserStoriesCount': 2}, {'Category': 'Bug fixes', 'UserStoriesCount': 1}, {'Category': 'General', 'UserStoriesCount': 1}, {'Category': 'Release', 'UserStoriesCount': 1}]\u001b[0m\n",
      "\n",
      "\u001b[1m> Finished chain.\u001b[0m\n",
      "\n",
      "\n",
      "running query 8: how many pending user stories have a priority greater than 30?\n",
      "\n",
      "\n",
      "\u001b[1m> Entering new GraphCypherQAChain chain...\u001b[0m\n",
      "Generated Cypher:\n",
      "\u001b[32;1m\u001b[1;3mMATCH (us:UserStory)\n",
      "WHERE us.pystatuswork = 'Pending' AND us.pxurgencywork > 30\n",
      "RETURN COUNT(us)\u001b[0m\n",
      "Full Context:\n",
      "\u001b[32;1m\u001b[1;3m[{'COUNT(us)': 1}]\u001b[0m\n",
      "\n",
      "\u001b[1m> Finished chain.\u001b[0m\n",
      "\n",
      "\n",
      "running query 9: which employee has the highest number of pending user stories assigned to them?\n",
      "\n",
      "\n",
      "\u001b[1m> Entering new GraphCypherQAChain chain...\u001b[0m\n",
      "Generated Cypher:\n",
      "\u001b[32;1m\u001b[1;3mMATCH (us:UserStory) WHERE toLower(us.pystatuswork) = 'pending'\n",
      "RETURN us.assignee AS Employee, COUNT(us) AS PendingUserStories\n",
      "ORDER BY PendingUserStories DESC\n",
      "LIMIT 1\u001b[0m\n",
      "Full Context:\n",
      "\u001b[32;1m\u001b[1;3m[{'Employee': 'Stijn', 'PendingUserStories': 2}]\u001b[0m\n",
      "\n",
      "\u001b[1m> Finished chain.\u001b[0m\n",
      "\n",
      "\n",
      "running query 10: what is the avg priority of user stories assigned to Abhijith?\n",
      "\n",
      "\n",
      "\u001b[1m> Entering new GraphCypherQAChain chain...\u001b[0m\n",
      "Generated Cypher:\n",
      "\u001b[32;1m\u001b[1;3mMATCH (us:UserStory {assignee: 'Abhijith'}) \n",
      "RETURN AVG(us.pxurgencywork)\u001b[0m\n",
      "Full Context:\n",
      "\u001b[32;1m\u001b[1;3m[{'AVG(us.pxurgencywork)': 23.0}]\u001b[0m\n",
      "\n",
      "\u001b[1m> Finished chain.\u001b[0m\n",
      "\n",
      "\n",
      "running query 11: which employee has the highest avg priority of user stories assigned to them?\n",
      "\n",
      "\n",
      "\u001b[1m> Entering new GraphCypherQAChain chain...\u001b[0m\n",
      "Generated Cypher:\n",
      "\u001b[32;1m\u001b[1;3mMATCH (us:UserStory)\n",
      "RETURN us.assignee AS Employee, AVG(us.pxurgencywork) AS Average_Priority\n",
      "ORDER BY Average_Priority DESC\n",
      "LIMIT 1\u001b[0m\n",
      "Full Context:\n",
      "\u001b[32;1m\u001b[1;3m[{'Employee': 'Stijn', 'Average_Priority': 25.0}]\u001b[0m\n",
      "\n",
      "\u001b[1m> Finished chain.\u001b[0m\n",
      "\n",
      "\n",
      "running query 12: which epic has the highest avg priority of user stories under it? what is its category and who is in charge of it?\n",
      "\n",
      "\n",
      "\u001b[1m> Entering new GraphCypherQAChain chain...\u001b[0m\n",
      "Generated Cypher:\n",
      "\u001b[32;1m\u001b[1;3mMATCH (us:UserStory)-[:IS_STORY_OF_EPIC]->(e:Epic)\n",
      "RETURN e.pyid AS Epic_ID, AVG(us.pxurgencywork) AS Average_Priority, e.category AS Category, e.assignee AS Assignee\n",
      "ORDER BY Average_Priority DESC\n",
      "LIMIT 1\u001b[0m\n",
      "Full Context:\n",
      "\u001b[32;1m\u001b[1;3m[{'Epic_ID': 'EPIC-2', 'Average_Priority': 33.75, 'Category': 'Feature Development', 'Assignee': 'Abhijith'}]\u001b[0m\n",
      "\n",
      "\u001b[1m> Finished chain.\u001b[0m\n",
      "\n",
      "\n",
      "running query 13: give me all user stories assigned to me (Neil) with priority > 10 which have a deadline after all stories assigned to Stijn.\n",
      "\n",
      "\n",
      "\u001b[1m> Entering new GraphCypherQAChain chain...\u001b[0m\n",
      "Generated Cypher:\n",
      "\u001b[32;1m\u001b[1;3mMATCH (us:UserStory {assignee: 'Neil'})\n",
      "WHERE us.pxurgencywork > 10\n",
      "WITH us, us.pysladeadline AS deadline\n",
      "MATCH (us2:UserStory {assignee: 'Stijn'})\n",
      "WITH us, max(us2.pysladeadline) AS max_deadline\n",
      "WHERE deadline > max_deadline\n",
      "RETURN us\u001b[0m\n",
      "error: Generated Cypher Statement is not valid\n",
      "{code: Neo.ClientError.Statement.SyntaxError} {message: In a WITH/RETURN with DISTINCT or an aggregation, it is not possible to access variables declared before the WITH/RETURN: deadline (line 6, column 7 (offset: 202))\n",
      "\"WHERE deadline > max_deadline\"\n",
      "       ^}\n",
      "\n",
      "\n",
      "running query 14: which pending user story has the highest priority and who in charge of the epic it belongs to?\n",
      "\n",
      "\n",
      "\u001b[1m> Entering new GraphCypherQAChain chain...\u001b[0m\n",
      "Generated Cypher:\n",
      "\u001b[32;1m\u001b[1;3mMATCH (us:UserStory)-[:IS_STORY_OF_EPIC]->(e:Epic)\n",
      "WHERE toLower(us.pystatuswork) = 'pending'\n",
      "RETURN us.pyid AS UserStoryID, us.pxurgencywork AS Priority, e.assignee AS EpicAssignee\n",
      "ORDER BY us.pxurgencywork DESC\n",
      "LIMIT 1\u001b[0m\n",
      "Full Context:\n",
      "\u001b[32;1m\u001b[1;3m[{'UserStoryID': 'US-13', 'Priority': 35.0, 'EpicAssignee': 'Abhijith'}]\u001b[0m\n",
      "\n",
      "\u001b[1m> Finished chain.\u001b[0m\n",
      "\n",
      "\n",
      "running query 15: who is in charge of the epic w/ the most user stories?\n",
      "\n",
      "\n",
      "\u001b[1m> Entering new GraphCypherQAChain chain...\u001b[0m\n",
      "Generated Cypher:\n",
      "\u001b[32;1m\u001b[1;3mMATCH (us:UserStory)-[:IS_STORY_OF_EPIC]->(e:Epic)\n",
      "RETURN e.assignee AS Epic_Assignee, COUNT(us) AS UserStory_Count\n",
      "ORDER BY UserStory_Count DESC\n",
      "LIMIT 1\u001b[0m\n",
      "Full Context:\n",
      "\u001b[32;1m\u001b[1;3m[{'Epic_Assignee': 'Neil', 'UserStory_Count': 12}]\u001b[0m\n",
      "\n",
      "\u001b[1m> Finished chain.\u001b[0m\n",
      "\n",
      "\n",
      "running query 16: find the most recent epic under goal 2 and any pending user stories under it, and summarize them.\n",
      "\n",
      "\n",
      "\u001b[1m> Entering new GraphCypherQAChain chain...\u001b[0m\n",
      "Generated Cypher:\n",
      "\u001b[32;1m\u001b[1;3mMATCH (g:Goal {pyid: 'GOAL-2'})-[:IS_GOAL_OF_PROJECT]->(p:Project)<-[:IS_EPIC_OF_GOAL]-(e:Epic)-[:IS_STORY_OF_EPIC]->(us:UserStory {pystatuswork: 'Pending'})\n",
      "RETURN e.pyid AS Epic_ID, e.pylabel AS Epic_Label, e.description AS Epic_Description, e.startdate AS Epic_Start_Date, e.pysladeadline AS Epic_Deadline, e.pystatuswork AS Epic_Status, collect(us.pyid) AS Pending_User_Stories_IDs, collect(us.pylabel) AS Pending_User_Stories_Labels, collect(us.description) AS Pending_User_Stories_Descriptions\n",
      "ORDER BY e.startdate DESC\n",
      "LIMIT 1\u001b[0m\n",
      "Full Context:\n",
      "\u001b[32;1m\u001b[1;3m[]\u001b[0m\n",
      "\n",
      "\u001b[1m> Finished chain.\u001b[0m\n",
      "\n",
      "\n",
      "running query 17: find the epic corresponding to the most recent user story assigned to me (Neil). summarize it and all completed user stories under it.\n",
      "\n",
      "\n",
      "\u001b[1m> Entering new GraphCypherQAChain chain...\u001b[0m\n",
      "Generated Cypher:\n",
      "\u001b[32;1m\u001b[1;3mMATCH (us:UserStory {assignee: 'Neil'})-[:IS_STORY_OF_EPIC]->(e:Epic)\n",
      "WHERE us.pystatuswork = 'Completed'\n",
      "RETURN e.pyid AS Epic_ID, e.pylabel AS Epic_Label, e.description AS Epic_Description, e.pystatuswork AS Epic_Status, e.category AS Epic_Category, e.startdate AS Epic_Start_Date, e.pysladeadline AS Epic_Deadline, COLLECT(us.pyid) AS Completed_User_Stories\n",
      "ORDER BY us.startdate DESC\n",
      "LIMIT 1\u001b[0m\n",
      "error: Generated Cypher Statement is not valid\n",
      "{code: Neo.ClientError.Statement.SyntaxError} {message: In a WITH/RETURN with DISTINCT or an aggregation, it is not possible to access variables declared before the WITH/RETURN: us (line 4, column 10 (offset: 370))\n",
      "\"ORDER BY us.startdate DESC\"\n",
      "          ^}\n",
      "\n",
      "\n",
      "running query 18: which epic has the most pending user stories? what is its category and who is in charge of it?\n",
      "\n",
      "\n",
      "\u001b[1m> Entering new GraphCypherQAChain chain...\u001b[0m\n",
      "Generated Cypher:\n",
      "\u001b[32;1m\u001b[1;3mMATCH (us:UserStory)-[:IS_STORY_OF_EPIC]->(e:Epic)\n",
      "WHERE toLower(us.pystatuswork) = 'pending'\n",
      "RETURN e.pyid AS Epic_ID, e.category AS Category, e.assignee AS Assignee, COUNT(us) AS Pending_UserStories\n",
      "ORDER BY Pending_UserStories DESC\n",
      "LIMIT 1\u001b[0m\n",
      "Full Context:\n",
      "\u001b[32;1m\u001b[1;3m[{'Epic_ID': 'EPIC-2', 'Category': 'Feature Development', 'Assignee': 'Abhijith', 'Pending_UserStories': 2}]\u001b[0m\n",
      "\n",
      "\u001b[1m> Finished chain.\u001b[0m\n",
      "\n",
      "\n",
      "running query 19: fetch all user stories assigned to Abhijith which have a priority higher than the highest priority of user stories assigned to me (Neil).\n",
      "\n",
      "\n",
      "\u001b[1m> Entering new GraphCypherQAChain chain...\u001b[0m\n",
      "Generated Cypher:\n",
      "\u001b[32;1m\u001b[1;3mMATCH (us1:UserStory {assignee: 'Neil'})\n",
      "WITH max(us1.pxurgencywork) as maxNeilPriority\n",
      "MATCH (us2:UserStory {assignee: 'Abhijith'})\n",
      "WHERE us2.pxurgencywork > maxNeilPriority\n",
      "RETURN us2\u001b[0m\n",
      "Full Context:\n",
      "\u001b[32;1m\u001b[1;3m[{'us2': {'goalid': 'GOAL-2', 'pysladeadline': neo4j.time.DateTime(2024, 1, 20, 0, 0, 0, 0), 'productid': 'PRD-2', 'pystatuswork': 'Completed', 'description': '1. Refer client facing documentation\\n\\n2. Demo Preparation\\n\\n3. Overview to CIT team', 'pxobjclass': 'UserStory', 'startdate': neo4j.time.Date(2023, 12, 22), 'pyid': 'US-10', 'backlogid': 'BL-2', 'enddate': neo4j.time.Date(2024, 1, 5), 'epicid': 'EPIC-2', 'pylabel': 'E2E Testing', 'assignee': 'Abhijith', 'category': 'Testing', 'pxurgencywork': 50.0, 'projectid': 'PROJ-2'}}]\u001b[0m\n",
      "\n",
      "\u001b[1m> Finished chain.\u001b[0m\n",
      "\n",
      "\n",
      "running query 20: which pending user story has the nearest deadline? what is its priority and category? which epic does it belong to? are there any other pending user stories under that epic? if yes, which ones?\n",
      "\n",
      "\n",
      "\u001b[1m> Entering new GraphCypherQAChain chain...\u001b[0m\n",
      "Generated Cypher:\n",
      "\u001b[32;1m\u001b[1;3mMATCH (us:UserStory)-[:IS_STORY_OF_EPIC]->(e:Epic)\n",
      "WHERE toLower(us.pystatuswork) = 'pending'\n",
      "RETURN us.pyid AS UserStory, us.pysladeadline AS Deadline, us.pxurgencywork AS Priority, us.category AS Category, e.pyid AS Epic\n",
      "ORDER BY us.pysladeadline ASC\n",
      "LIMIT 1\n",
      "UNION\n",
      "MATCH (us2:UserStory)-[:IS_STORY_OF_EPIC]->(e2:Epic)\n",
      "WHERE toLower(us2.pystatuswork) = 'pending' AND e2.pyid = e.pyid\n",
      "RETURN us2.pyid AS UserStory, us2.pysladeadline AS Deadline, us2.pxurgencywork AS Priority, us2.category AS Category, e2.pyid AS Epic\n",
      "ORDER BY us2.pysladeadline ASC\u001b[0m\n",
      "error: Generated Cypher Statement is not valid\n",
      "{code: Neo.ClientError.Statement.SyntaxError} {message: Variable `e` not defined (line 8, column 59 (offset: 378))\n",
      "\"WHERE toLower(us2.pystatuswork) = 'pending' AND e2.pyid = e.pyid\"\n",
      "                                                           ^}\n",
      "\n",
      "\n"
     ]
    }
   ],
   "source": [
    "# eval on test set\n",
    "test_queries_path = 'data/sample_queries.csv'\n",
    "df_queries = pd.read_csv(test_queries_path, sep=';', index_col='id')\n",
    "responses = {}\n",
    "\n",
    "# iter thru queries and generate responses\n",
    "for qid, row in df_queries.iterrows():\n",
    "    query = row['query']\n",
    "    print(f\"running query {qid}: {query}\")\n",
    "    try:\n",
    "        response = kg_rag_chain.run(query=query)\n",
    "        responses[qid] = response\n",
    "        print(response)\n",
    "    except Exception as e:\n",
    "        print(f\"error: {e}\")\n",
    "    print('\\n')\n",
    "\n",
    "# save responses to csv\n",
    "df_responses = pd.DataFrame.from_dict(responses, orient='index', columns=['response'])\n",
    "responses_path = f'outputs/kg-rag/responses_{llm_version}.csv'\n",
    "os.makedirs(os.path.dirname(responses_path), exist_ok=True)\n",
    "with open(responses_path, 'w') as f:\n",
    "    df_responses.to_csv(f, sep=';')"
   ]
  },
  {
   "cell_type": "code",
   "execution_count": 26,
   "metadata": {},
   "outputs": [
    {
     "name": "stdout",
     "output_type": "stream",
     "text": [
      "{'num_queries': 20, 'num_correct': 13, 'num_queries_easy': 10, 'num_correct_easy': 8, 'num_queries_hard': 10, 'num_correct_hard': 5, 'accuracy': 0.65, 'accuracy_easy': 0.8, 'accuracy_hard': 0.5}\n"
     ]
    }
   ],
   "source": [
    "# compute accuracy of responses\n",
    "responses_eval_path = f'outputs/kg-rag/responses_{llm_version}_eval.csv'\n",
    "eval_res = eval_rag_responses(responses_eval_path)\n",
    "print(eval_res)"
   ]
  },
  {
   "cell_type": "markdown",
   "metadata": {},
   "source": [
    "### Agent with tools"
   ]
  },
  {
   "cell_type": "code",
   "execution_count": 72,
   "metadata": {},
   "outputs": [],
   "source": [
    "# ngm.embed_objs()    # embed graph objects\n",
    "\n",
    "gqa = GraphQueryAgent(ngm.graph, llm)    # instantiate graph query agent\n",
    "\n",
    "# query = \"which goal is about security issues in Pega Infinity?\"\n",
    "query = \"how many user stories are there in total?\"\n",
    "print(f\"user query: {query}\")\n",
    "# agent_exec.run(query)\n",
    "gqa.run(query)"
   ]
  }
 ],
 "metadata": {
  "kernelspec": {
   "display_name": "rag-llms",
   "language": "python",
   "name": "python3"
  },
  "language_info": {
   "codemirror_mode": {
    "name": "ipython",
    "version": 3
   },
   "file_extension": ".py",
   "mimetype": "text/x-python",
   "name": "python",
   "nbconvert_exporter": "python",
   "pygments_lexer": "ipython3",
   "version": "3.11.0"
  }
 },
 "nbformat": 4,
 "nbformat_minor": 2
}
